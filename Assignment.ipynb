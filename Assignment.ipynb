{
 "cells": [
  {
   "cell_type": "markdown",
   "id": "7ec8b3bd",
   "metadata": {},
   "source": [
    "# Python Assignments Session Wise"
   ]
  },
  {
   "cell_type": "markdown",
   "id": "58513f1d",
   "metadata": {},
   "source": [
    "## A) Session 1 & 2"
   ]
  },
  {
   "cell_type": "markdown",
   "id": "b3df3b77",
   "metadata": {},
   "source": [
    "### Input / Output\n",
    "\n",
    "##### 1. Accept Empid,EmpName,Monthly_Salary,Tot_Deductions, Tot_Allowances and Display Employee Name and Salary in hand"
   ]
  },
  {
   "cell_type": "code",
   "execution_count": 1,
   "id": "688b5c5a",
   "metadata": {},
   "outputs": [
    {
     "name": "stdout",
     "output_type": "stream",
     "text": [
      "Enter Employee ID: 101\n",
      "Enter Employee Name: Sohail\n",
      "Enter Monthly Salary: 30000\n",
      "Enter Total Deductions: 2000\n",
      "Enter Total Allowances: 400\n",
      "Employee Name: Sohail\n",
      "Salary in hand: 28400.0\n"
     ]
    }
   ],
   "source": [
    "emp_id = int(input(\"Enter Employee ID: \"))\n",
    "emp_name = input(\"Enter Employee Name: \")\n",
    "monthly_salary = float(input(\"Enter Monthly Salary: \"))\n",
    "tot_deductions = float(input(\"Enter Total Deductions: \"))\n",
    "tot_allowances = float(input(\"Enter Total Allowances: \"))\n",
    "\n",
    "salary_in_hand = monthly_salary - tot_deductions + tot_allowances\n",
    "\n",
    "print(f\"Employee Name: {emp_name}\")\n",
    "print(f\"Salary in hand: {salary_in_hand}\")"
   ]
  },
  {
   "cell_type": "markdown",
   "id": "e5e81195",
   "metadata": {},
   "source": [
    "### if Conditions :"
   ]
  },
  {
   "cell_type": "markdown",
   "id": "d91945c3",
   "metadata": {},
   "source": [
    "##### 1. Accept 3 integers from the User and Display Maximum"
   ]
  },
  {
   "cell_type": "code",
   "execution_count": 3,
   "id": "40d2bd3e",
   "metadata": {},
   "outputs": [
    {
     "name": "stdout",
     "output_type": "stream",
     "text": [
      "Enter first number: 100\n",
      "Enter second number: 20\n",
      "Enter third number: 10\n",
      "Maximum: 100\n"
     ]
    }
   ],
   "source": [
    "num1 = int(input(\"Enter first number: \"))\n",
    "num2 = int(input(\"Enter second number: \"))\n",
    "num3 = int(input(\"Enter third number: \"))\n",
    "\n",
    "if num1 >= num2 and num1 >= num3:\n",
    "    maximum = num1\n",
    "elif num2 >= num1 and num2 >= num3:\n",
    "    maximum = num2\n",
    "else:\n",
    "    maximum = num3\n",
    "\n",
    "print(f\"Maximum: {maximum}\")"
   ]
  },
  {
   "cell_type": "markdown",
   "id": "b015a710",
   "metadata": {},
   "source": [
    "##### 2. Accept 3 integers from User and display Minimum"
   ]
  },
  {
   "cell_type": "code",
   "execution_count": 4,
   "id": "8d9f0b5d",
   "metadata": {},
   "outputs": [
    {
     "name": "stdout",
     "output_type": "stream",
     "text": [
      "Enter first number: 100\n",
      "Enter second number: 20\n",
      "Enter third number: 10\n",
      "Minimum: 10\n"
     ]
    }
   ],
   "source": [
    "num1 = int(input(\"Enter first number: \"))\n",
    "num2 = int(input(\"Enter second number: \"))\n",
    "num3 = int(input(\"Enter third number: \"))\n",
    "\n",
    "if num1 <= num2 and num1 <= num3:\n",
    "    minimum = num1\n",
    "elif num2 <= num1 and num2 <= num3:\n",
    "    minimum = num2\n",
    "else:\n",
    "    minimum = num3\n",
    "\n",
    "print(f\"Minimum: {minimum}\")"
   ]
  },
  {
   "cell_type": "markdown",
   "id": "ae951fa9",
   "metadata": {},
   "source": [
    "## Loops"
   ]
  },
  {
   "cell_type": "markdown",
   "id": "9856d090",
   "metadata": {},
   "source": [
    "##### 1. Accept Integers from User till Users Choice and do the Following:\n",
    "    1. Sum of all Integers\n",
    "    2. Average of all Integers\n",
    "    3. Maximum Integer from all\n",
    "    4. Minimum Integer from all"
   ]
  },
  {
   "cell_type": "code",
   "execution_count": 8,
   "id": "f0766482",
   "metadata": {},
   "outputs": [
    {
     "name": "stdout",
     "output_type": "stream",
     "text": [
      "Enter an integer (or 'q' to quit): 100\n",
      "Enter an integer (or 'q' to quit): 200\n",
      "Enter an integer (or 'q' to quit): 300\n",
      "Enter an integer (or 'q' to quit): 400\n",
      "Enter an integer (or 'q' to quit): q\n",
      "1. Sum of all integers: 1000\n",
      "2. Average of all integers: 250.0\n",
      "3. Maximum integer: 400\n",
      "4. Minimum integer: 100\n"
     ]
    }
   ],
   "source": [
    "numbers = []\n",
    "while True:\n",
    "    user_input = input(\"Enter an integer (or 'q' to quit): \")\n",
    "    if user_input.lower() == 'q':\n",
    "        break\n",
    "    numbers.append(int(user_input))\n",
    "\n",
    "if numbers:\n",
    "    sum_of_integers = 0\n",
    "    maximum = minimum = numbers[0]\n",
    "    \n",
    "    for num in numbers:\n",
    "        sum_of_integers += num\n",
    "        if num > maximum:\n",
    "            maximum = num\n",
    "        if num < minimum:\n",
    "            minimum = num\n",
    "    \n",
    "    average = sum_of_integers / len(numbers)\n",
    "\n",
    "    print(f\"1. Sum of all integers: {sum_of_integers}\")\n",
    "    print(f\"2. Average of all integers: {average}\")\n",
    "    print(f\"3. Maximum integer: {maximum}\")\n",
    "    print(f\"4. Minimum integer: {minimum}\")\n",
    "else:\n",
    "    print(\"No numbers entered.\")"
   ]
  },
  {
   "cell_type": "markdown",
   "id": "cbea181c",
   "metadata": {},
   "source": [
    "##### 2. Accept a String from User and do the following :\n",
    "    1. Find the Length\n",
    "    2. Display String in reverse\n",
    "    3. Display every alternate Character in Upper Case\n",
    "    4. Find out No of Vowels in the String"
   ]
  },
  {
   "cell_type": "code",
   "execution_count": 7,
   "id": "c2bede56",
   "metadata": {},
   "outputs": [
    {
     "name": "stdout",
     "output_type": "stream",
     "text": [
      "Enter a string: sohail\n",
      "1. Length: 6\n",
      "2. Reversed: liahos\n",
      "3. Alternate uppercase: SoHaIl\n",
      "4. Number of vowels: 3\n"
     ]
    }
   ],
   "source": [
    "user_string = input(\"Enter a string: \")\n",
    "\n",
    "# Length of the string\n",
    "print(f\"1. Length: {len(user_string)}\")\n",
    "\n",
    "# Reverse the string\n",
    "reversed_string = \"\"\n",
    "for i in range(len(user_string) - 1, -1, -1):\n",
    "    reversed_string += user_string[i]\n",
    "print(f\"2. Reversed: {reversed_string}\")\n",
    "\n",
    "# Alternate characters in upper case\n",
    "alternate_upper = \"\"\n",
    "for i in range(len(user_string)):\n",
    "    if i % 2 == 0:\n",
    "        alternate_upper += user_string[i].upper()\n",
    "    else:\n",
    "        alternate_upper += user_string[i].lower()\n",
    "print(f\"3. Alternate uppercase: {alternate_upper}\")\n",
    "\n",
    "# Count vowels\n",
    "vowels = 0\n",
    "for char in user_string.lower():\n",
    "    if char in 'aeiou':\n",
    "        vowels += 1\n",
    "print(f\"4. Number of vowels: {vowels}\")"
   ]
  },
  {
   "cell_type": "markdown",
   "id": "0fb0aae1",
   "metadata": {},
   "source": []
  },
  {
   "cell_type": "markdown",
   "id": "21abdb67",
   "metadata": {},
   "source": [
    " ##### 2.5. Accept Username and Date of Birth (dd-mon-yy) from User\n",
    "    Create a Password String which will be combination of\n",
    "    1st 4 letters of username and last 2digits of Date of Birth\n",
    "    followed by \"$\" sign"
   ]
  },
  {
   "cell_type": "markdown",
   "id": "2d3224fc",
   "metadata": {},
   "source": [
    " ##### 2.6. Encrypt the String and return Encrypted String\n",
    "    (Assume your Algorithm)"
   ]
  },
  {
   "cell_type": "code",
   "execution_count": 9,
   "id": "a5a82563",
   "metadata": {},
   "outputs": [
    {
     "name": "stdout",
     "output_type": "stream",
     "text": [
      "Enter your username: sohail\n",
      "Enter your date of birth (dd-mm-yy): 20-07-2001\n",
      "Generated password is  soha01$\n",
      "Encrypted password: vrkd01$\n"
     ]
    }
   ],
   "source": [
    "username = input(\"Enter your username: \")\n",
    "dob = input(\"Enter your date of birth (dd-mm-yy): \")\n",
    "\n",
    "password = username[:4] + dob[-2:] + \"$\"\n",
    "print(\"Generated password is \", password)\n",
    "\n",
    "encrypted_password = \"\"\n",
    "for char in password:\n",
    "    if char.isalpha():\n",
    "        encrypted_password += chr(((ord(char) - 65 + 3) % 26) + 65) if char.isupper() else chr(((ord(char) - 97 + 3) % 26) + 97)\n",
    "    else:\n",
    "        encrypted_password += char\n",
    "print(\"Encrypted password:\", encrypted_password)"
   ]
  },
  {
   "cell_type": "markdown",
   "id": "ae2bcbf0",
   "metadata": {},
   "source": [
    "##### 3. Write Python Program to do the following :\n",
    "    1. Display Area of Circle\n",
    "    2. Display Area of Parallelogram"
   ]
  },
  {
   "cell_type": "code",
   "execution_count": 10,
   "id": "bf9a058c",
   "metadata": {},
   "outputs": [
    {
     "name": "stdout",
     "output_type": "stream",
     "text": [
      "Enter the radius of the circle: 7\n",
      "Area of the circle: 153.94\n"
     ]
    }
   ],
   "source": [
    "import math\n",
    "\n",
    "# Circle area\n",
    "radius = float(input(\"Enter the radius of the circle: \"))\n",
    "circle_area = math.pi * radius ** 2\n",
    "print(f\"Area of the circle: {circle_area:.2f}\")"
   ]
  },
  {
   "cell_type": "code",
   "execution_count": 14,
   "id": "be1fa699",
   "metadata": {},
   "outputs": [
    {
     "name": "stdout",
     "output_type": "stream",
     "text": [
      "Enter the base of the parallelogram: 10\n",
      "Enter the height of the parallelogram: 5\n",
      "Area of the parallelogram: 50.00\n"
     ]
    }
   ],
   "source": [
    "import math\n",
    "\n",
    "# Parallelogram area\n",
    "base = float(input(\"Enter the base of the parallelogram: \"))\n",
    "height = float(input(\"Enter the height of the parallelogram: \"))\n",
    "parallelogram_area = base * height\n",
    "print(f\"Area of the parallelogram: {parallelogram_area:.2f}\")"
   ]
  },
  {
   "cell_type": "markdown",
   "id": "a2d9f662",
   "metadata": {},
   "source": [
    "##### 4. Accept Integer and find Square root of Integer"
   ]
  },
  {
   "cell_type": "code",
   "execution_count": 17,
   "id": "3e1724a1",
   "metadata": {},
   "outputs": [
    {
     "name": "stdout",
     "output_type": "stream",
     "text": [
      "Enter an integer: 4\n",
      "Square root of 4: 2.0\n"
     ]
    }
   ],
   "source": [
    "import math\n",
    "\n",
    "number = int(input(\"Enter an integer: \"))\n",
    "square_root = math.sqrt(number)\n",
    "print(f\"Square root of {number}: {square_root}\")"
   ]
  },
  {
   "cell_type": "markdown",
   "id": "326add21",
   "metadata": {},
   "source": [
    "## B) Session 3 / 4"
   ]
  },
  {
   "cell_type": "markdown",
   "id": "f204d109",
   "metadata": {},
   "source": [
    "##### 1. Create a List for the following :\n",
    "    a. Accept Fruits Name and their price(per kg)\n",
    "    b. Fruits Name should be at odd index position in the List.\n",
    "    Price at even index position"
   ]
  },
  {
   "cell_type": "code",
   "execution_count": 19,
   "id": "a0669612",
   "metadata": {},
   "outputs": [
    {
     "name": "stdout",
     "output_type": "stream",
     "text": [
      "Enter fruit name (or 'q' to quit): Mango\n",
      "Enter price per kg for Mango: 200\n",
      "Enter fruit name (or 'q' to quit): Dragon Fruit\n",
      "Enter price per kg for Dragon Fruit: 300\n",
      "Enter fruit name (or 'q' to quit): Kiwi\n",
      "Enter price per kg for Kiwi: 250\n",
      "Enter fruit name (or 'q' to quit): q\n",
      "Fruits and Prices List: ['Mango', 200, 'Dragon Fruit', 300, 'Kiwi', 250]\n"
     ]
    }
   ],
   "source": [
    "fruits_and_prices = []\n",
    "\n",
    "while True:\n",
    "    fruit = input(\"Enter fruit name (or 'q' to quit): \")\n",
    "    if fruit.lower() == 'q':\n",
    "        break\n",
    "    price = int(input(f\"Enter price per kg for {fruit}: \"))\n",
    "    fruits_and_prices.extend([fruit, price])\n",
    "\n",
    "print(\"Fruits and Prices List:\", fruits_and_prices)"
   ]
  },
  {
   "cell_type": "markdown",
   "id": "12f5a8ba",
   "metadata": {},
   "source": [
    "##### 2. Customer will buy fruits from you (Show him the Fruits Menu)\n",
    "    Write a Program to\n",
    "        a. Calculate Total Price of Fruits Bought .\n",
    "        (Assume price for 1 kg )\n",
    "        b. Add New Fruits in the List\n",
    "        c. Show Total Fruits in the List"
   ]
  },
  {
   "cell_type": "code",
   "execution_count": 10,
   "id": "0bdf23a7",
   "metadata": {},
   "outputs": [
    {
     "name": "stdout",
     "output_type": "stream",
     "text": [
      "\n",
      "1. Buy fruits\n",
      "2. Add new fruit\n",
      "3. Show total fruits\n",
      "4. Exit\n",
      "Enter your choice (1-4): 1\n",
      "\n",
      "Fruits Menu:\n",
      "Apple: 200/kg\n",
      "Banana: 60/kg\n",
      "Orange: 250/kg\n",
      "Enter fruit to buy (or 'q' to finish): Apple\n",
      "Enter quantity in kg for Apple: 2\n",
      "Enter fruit to buy (or 'q' to finish): q\n",
      "Total price: 400.00\n",
      "\n",
      "1. Buy fruits\n",
      "2. Add new fruit\n",
      "3. Show total fruits\n",
      "4. Exit\n",
      "Enter your choice (1-4): 4\n"
     ]
    }
   ],
   "source": [
    "def show_menu(fruits_list):\n",
    "    print(\"\\nFruits Menu:\")\n",
    "    for i in range(0, len(fruits_list), 2):\n",
    "        print(f\"{fruits_list[i]}: {fruits_list[i+1]}/kg\")\n",
    "\n",
    "def calculate_total(fruits_list, purchases):\n",
    "    total = 0\n",
    "    for fruit, quantity in purchases.items():\n",
    "        if fruit in fruits_list:\n",
    "            index = fruits_list.index(fruit)\n",
    "            total += fruits_list[index + 1] * quantity\n",
    "    return total\n",
    "\n",
    "def add_new_fruit(fruits_list):\n",
    "    fruit = input(\"Enter new fruit name: \")\n",
    "    price = float(input(f\"Enter price per kg for {fruit}: \"))\n",
    "    fruits_list.extend([fruit, price])\n",
    "\n",
    "fruits_and_prices = ['Apple', 200, 'Banana', 60, 'Orange', 250]\n",
    "\n",
    "while True:\n",
    "    print(\"\\n1. Buy fruits\")\n",
    "    print(\"2. Add new fruit\")\n",
    "    print(\"3. Show total fruits\")\n",
    "    print(\"4. Exit\")\n",
    "    choice = input(\"Enter your choice (1-4): \")\n",
    "\n",
    "    if choice == '1':\n",
    "        show_menu(fruits_and_prices)\n",
    "        purchases = {}\n",
    "        while True:\n",
    "            fruit = input(\"Enter fruit to buy (or 'q' to finish): \")\n",
    "            if fruit.lower() == 'q':\n",
    "                break\n",
    "            quantity = float(input(f\"Enter quantity in kg for {fruit}: \"))\n",
    "            purchases[fruit] = quantity\n",
    "        total_price = calculate_total(fruits_and_prices, purchases)\n",
    "        print(f\"Total price: {total_price:.2f}\")\n",
    "\n",
    "    elif choice == '2':\n",
    "        add_new_fruit(fruits_and_prices)\n",
    "\n",
    "    elif choice == '3':\n",
    "        print(f\"Total fruits in the list: {len(fruits_and_prices) // 2}\")\n",
    "        show_menu(fruits_and_prices)\n",
    "\n",
    "    elif choice == '4':\n",
    "        break\n",
    "\n",
    "    else:\n",
    "        print(\"Invalid choice. Please try again.\")"
   ]
  },
  {
   "cell_type": "markdown",
   "id": "e09da6d6",
   "metadata": {},
   "source": [
    "##### 3. Create Foll. Information in the Tuple (atleast 5 Employees)\n",
    "    1. EmpId - Phone Numbers (One Employee can have Multiple Numbers )\n",
    "    2. Accept Empid from User.\n",
    "    Display his Numbers only if he exists in the Database(Tuple)\n",
    "    Display App. Message if not present\n",
    "    3. Update Employee phone Number\n",
    "    Accept Empid from User\n",
    "    Check whether he / she Exists\n",
    "    Accept New Phone Number\n",
    "    Update\n",
    "    Display Appropriate Message for any task"
   ]
  },
  {
   "cell_type": "code",
   "execution_count": 2,
   "id": "e97f8879",
   "metadata": {},
   "outputs": [
    {
     "name": "stdout",
     "output_type": "stream",
     "text": [
      "\n",
      "1. Display employee numbers\n",
      "2. Update employee number\n",
      "3. Exit\n",
      "Enter your choice (1-3): 1\n",
      "Enter employee ID: 101\n",
      "Phone numbers for employee 101: 1234567890, 9876543210\n",
      "\n",
      "1. Display employee numbers\n",
      "2. Update employee number\n",
      "3. Exit\n",
      "Enter your choice (1-3): 3\n"
     ]
    }
   ],
   "source": [
    "employee_data = (\n",
    "    (101, ['1234567890', '9876543210']),\n",
    "    (102, ['2345678901']),\n",
    "    (103, ['3456789012', '8765432109']),\n",
    "    (104, ['4567890123']),\n",
    "    (105, ['5678901234', '7654321098'])\n",
    ")\n",
    "\n",
    "def display_numbers(emp_id):\n",
    "    for employee in employee_data:\n",
    "        if employee[0] == emp_id:\n",
    "            print(f\"Phone numbers for employee {emp_id}: {', '.join(employee[1])}\")\n",
    "            return\n",
    "    print(f\"Employee {emp_id} not found in the database.\")\n",
    "\n",
    "def update_number(emp_id, new_number):\n",
    "    for i, employee in enumerate(employee_data):\n",
    "        if employee[0] == emp_id:\n",
    "            new_numbers = list(employee[1])\n",
    "            new_numbers.append(new_number)\n",
    "            employee_data[i] = (emp_id, new_numbers)\n",
    "            print(f\"Phone number updated for employee {emp_id}\")\n",
    "            return\n",
    "    print(f\"Employee {emp_id} not found in the database.\")\n",
    "\n",
    "while True:\n",
    "    print(\"\\n1. Display employee numbers\")\n",
    "    print(\"2. Update employee number\")\n",
    "    print(\"3. Exit\")\n",
    "    choice = input(\"Enter your choice (1-3): \")\n",
    "\n",
    "    if choice == '1':\n",
    "        emp_id = int(input(\"Enter employee ID: \"))\n",
    "        display_numbers(emp_id)\n",
    "\n",
    "    elif choice == '2':\n",
    "        emp_id = int(input(\"Enter employee ID: \"))\n",
    "        new_number = input(\"Enter new phone number: \")\n",
    "        update_number(emp_id, new_number)\n",
    "\n",
    "    elif choice == '3':\n",
    "        break\n",
    "\n",
    "    else:\n",
    "        print(\"Invalid choice. Please try again.\")"
   ]
  },
  {
   "cell_type": "markdown",
   "id": "8f28e761",
   "metadata": {},
   "source": [
    "##### 4. Store the Following info in Dictionary\n",
    "    Department Name and their Employee Names\n",
    "    Note : One Department can have multiple Employees\n",
    "\n",
    "    Perform the Following Operations :\n",
    "        1. Add a New Department Name and Employees in that Department\n",
    "        If a New Department Name doesnot Exists\n",
    "        2. Accept Dept Name from User and List all Employees\n",
    "        If Dept Name Exists in the Database\n",
    "        3. Add a New Employee in Existing Department\n",
    "        4. Delete Existing Employee From Department"
   ]
  },
  {
   "cell_type": "code",
   "execution_count": 6,
   "id": "3bd9c524",
   "metadata": {},
   "outputs": [
    {
     "name": "stdout",
     "output_type": "stream",
     "text": [
      "\n",
      "1. Add new department\n",
      "2. List employees in a department\n",
      "3. Add new employee to a department\n",
      "4. Delete employee from a department\n",
      "5. Exit\n",
      "Enter your choice (1-5): 2\n",
      "Enter department name: IT\n",
      "Employees in IT: Sohail, Pranay, Bob\n",
      "\n",
      "1. Add new department\n",
      "2. List employees in a department\n",
      "3. Add new employee to a department\n",
      "4. Delete employee from a department\n",
      "5. Exit\n",
      "Enter your choice (1-5): 3\n",
      "Enter department name: Raju\n",
      "Department Raju not found.\n",
      "\n",
      "1. Add new department\n",
      "2. List employees in a department\n",
      "3. Add new employee to a department\n",
      "4. Delete employee from a department\n",
      "5. Exit\n",
      "Enter your choice (1-5): 3\n",
      "Enter department name: IT\n",
      "Enter new employee name: Raju\n",
      "Raju added to IT\n",
      "\n",
      "1. Add new department\n",
      "2. List employees in a department\n",
      "3. Add new employee to a department\n",
      "4. Delete employee from a department\n",
      "5. Exit\n",
      "Enter your choice (1-5): 2\n",
      "Enter department name: IT\n",
      "Employees in IT: Sohail, Pranay, Bob, Raju\n",
      "\n",
      "1. Add new department\n",
      "2. List employees in a department\n",
      "3. Add new employee to a department\n",
      "4. Delete employee from a department\n",
      "5. Exit\n",
      "Enter your choice (1-5): 4\n",
      "Enter department name: IT\n",
      "Enter employee name to delete: Raju\n",
      "Raju removed from IT\n",
      "\n",
      "1. Add new department\n",
      "2. List employees in a department\n",
      "3. Add new employee to a department\n",
      "4. Delete employee from a department\n",
      "5. Exit\n",
      "Enter your choice (1-5): 2\n",
      "Enter department name: IT\n",
      "Employees in IT: Sohail, Pranay, Bob\n",
      "\n",
      "1. Add new department\n",
      "2. List employees in a department\n",
      "3. Add new employee to a department\n",
      "4. Delete employee from a department\n",
      "5. Exit\n",
      "Enter your choice (1-5): 5\n"
     ]
    }
   ],
   "source": [
    "departments = {\n",
    "    \"IT\": [\"Sohail\", \"Pranay\", \"Bob\"],\n",
    "    \"HR\": [\"Gani\", \"Alice\"],\n",
    "    \"Testing\": [\"Sara\", \"Mahesh\"]\n",
    "}\n",
    "\n",
    "def add_department():\n",
    "    dept_name = input(\"Enter new department name: \")\n",
    "    if dept_name not in departments:\n",
    "        employees = input(\"Enter employee names (comma-separated): \").split(\",\")\n",
    "        departments[dept_name] = [emp.strip() for emp in employees]\n",
    "        print(f\"Department {dept_name} added successfully.\")\n",
    "    else:\n",
    "        print(f\"Department {dept_name} already exists.\")\n",
    "\n",
    "def list_employees():\n",
    "    dept_name = input(\"Enter department name: \")\n",
    "    if dept_name in departments:\n",
    "        print(f\"Employees in {dept_name}: {', '.join(departments[dept_name])}\")\n",
    "    else:\n",
    "        print(f\"Department {dept_name} not found.\")\n",
    "\n",
    "def add_employee():\n",
    "    dept_name = input(\"Enter department name: \")\n",
    "    if dept_name in departments:\n",
    "        new_emp = input(\"Enter new employee name: \")\n",
    "        departments[dept_name].append(new_emp)\n",
    "        print(f\"{new_emp} added to {dept_name}\")\n",
    "    else:\n",
    "        print(f\"Department {dept_name} not found.\")\n",
    "\n",
    "def delete_employee():\n",
    "    dept_name = input(\"Enter department name: \")\n",
    "    if dept_name in departments:\n",
    "        emp_name = input(\"Enter employee name to delete: \")\n",
    "        if emp_name in departments[dept_name]:\n",
    "            departments[dept_name].remove(emp_name)\n",
    "            print(f\"{emp_name} removed from {dept_name}\")\n",
    "        else:\n",
    "            print(f\"{emp_name} not found in {dept_name}\")\n",
    "    else:\n",
    "        print(f\"Department {dept_name} not found.\")\n",
    "\n",
    "while True:\n",
    "    print(\"\\n1. Add new department\")\n",
    "    print(\"2. List employees in a department\")\n",
    "    print(\"3. Add new employee to a department\")\n",
    "    print(\"4. Delete employee from a department\")\n",
    "    print(\"5. Exit\")\n",
    "    choice = input(\"Enter your choice (1-5): \")\n",
    "\n",
    "    if choice == '1':\n",
    "        add_department()\n",
    "    elif choice == '2':\n",
    "        list_employees()\n",
    "    elif choice == '3':\n",
    "        add_employee()\n",
    "    elif choice == '4':\n",
    "        delete_employee()\n",
    "    elif choice == '5':\n",
    "        break\n",
    "    else:\n",
    "        print(\"Invalid choice. Please try again.\")"
   ]
  },
  {
   "cell_type": "markdown",
   "id": "36b68d7c",
   "metadata": {},
   "source": [
    "##### 5. Create Following two Sets\n",
    "    1. Fruit_Salesman1\n",
    "    2. Fruit_Salesman2\n",
    "    Create Fruits for both Salesmans\n",
    "    Perform the Following Operations\n",
    "    1. Find out Common Fruits with both Salesman\n",
    "    2. List Extra Fruits with Both Salesman\n",
    "    3. List Total Fruits with both Salesman"
   ]
  },
  {
   "cell_type": "code",
   "execution_count": 7,
   "id": "fbf0251f",
   "metadata": {},
   "outputs": [
    {
     "name": "stdout",
     "output_type": "stream",
     "text": [
      "Common fruits: {'apple', 'orange'}\n",
      "Extra fruits with Salesman 1: {'banana', 'grape', 'mango'}\n",
      "Extra fruits with Salesman 2: {'kiwi', 'pineapple', 'pear'}\n",
      "Total fruits with both salesmen: {'kiwi', 'pineapple', 'pear', 'mango', 'banana', 'apple', 'orange', 'grape'}\n"
     ]
    }
   ],
   "source": [
    "fruit_salesman1 = set(['apple', 'banana', 'orange', 'grape', 'mango'])\n",
    "fruit_salesman2 = set(['apple', 'kiwi', 'pear', 'orange', 'pineapple'])\n",
    "\n",
    "# 1. Common fruits\n",
    "common_fruits = fruit_salesman1.intersection(fruit_salesman2)\n",
    "print(\"Common fruits:\", common_fruits)\n",
    "\n",
    "# 2. Extra fruits with both salesmen\n",
    "extra_fruits_salesman1 = fruit_salesman1.difference(fruit_salesman2)\n",
    "extra_fruits_salesman2 = fruit_salesman2.difference(fruit_salesman1)\n",
    "print(\"Extra fruits with Salesman 1:\", extra_fruits_salesman1)\n",
    "print(\"Extra fruits with Salesman 2:\", extra_fruits_salesman2)\n",
    "\n",
    "# 3. Total fruits with both salesmen\n",
    "total_fruits = fruit_salesman1.union(fruit_salesman2)\n",
    "print(\"Total fruits with both salesmen:\", total_fruits)"
   ]
  }
 ],
 "metadata": {
  "kernelspec": {
   "display_name": "Python 3",
   "language": "python",
   "name": "python3"
  },
  "language_info": {
   "codemirror_mode": {
    "name": "ipython",
    "version": 3
   },
   "file_extension": ".py",
   "mimetype": "text/x-python",
   "name": "python",
   "nbconvert_exporter": "python",
   "pygments_lexer": "ipython3",
   "version": "3.8.8"
  }
 },
 "nbformat": 4,
 "nbformat_minor": 5
}
